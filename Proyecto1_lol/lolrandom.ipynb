{
 "cells": [
  {
   "cell_type": "markdown",
   "id": "b26f4894-83cc-4867-98b1-70b7c75bb4c0",
   "metadata": {},
   "source": [
    "# Constantes\n",
    "**QueueID**\n",
    "* 400: Normal draft games\n",
    "* 420: Ranked Solo/Duo games\n",
    "* 430: Normal blind pick games\n",
    "* 440: Ranked Flex games\n",
    "* 450: ARAM games"
   ]
  },
  {
   "cell_type": "code",
   "execution_count": 1,
   "id": "64bbef8c-acf4-45c1-bff2-29c19baf9905",
   "metadata": {},
   "outputs": [],
   "source": [
    "NORMAL_RECL_ = 400;\n",
    "RANKED_SOLO_ = 420;\n",
    "NORMAL_BLIND_ = 430;\n",
    "RANKED_FLEX_ = 440;"
   ]
  },
  {
   "cell_type": "code",
   "execution_count": 2,
   "id": "1ecf94d3-0e9e-485d-996b-cf2986580c12",
   "metadata": {},
   "outputs": [],
   "source": [
    "from riotwatcher import LolWatcher, ApiError\n",
    "\n",
    "# Usa tu clave de API aquí \n",
    "#ESTA API CAMBIA DIARIAMENTE, SE DEBE ACTUALIZAR\n",
    "api_key = 'RGAPI-5c790cad-4c82-4753-891f-d72414982d57'\n",
    "\n",
    "# Crea un objeto de LolWatcher\n",
    "lol_watcher = LolWatcher(api_key)\n",
    "\n",
    "user_name = 'SirXavier'\n",
    "region = 'la2'\n",
    "\n",
    "usuario = lol_watcher.summoner.by_name(region, user_name)\n",
    "#print(usuario)"
   ]
  },
  {
   "cell_type": "code",
   "execution_count": 3,
   "id": "6961eda8-6150-43b0-81be-a08ea5afca55",
   "metadata": {
    "tags": []
   },
   "outputs": [],
   "source": [
    "count = 5\n",
    "#TODAS LAS PARTIDAS\n",
    "#matches = lol_watcher.match.matchlist_by_puuid(region, usuario[\"puuid\"],count=count)\n",
    "#RANKED SOLO DUO"
   ]
  },
  {
   "cell_type": "code",
   "execution_count": 8,
   "id": "a3cb4273-45ae-4de1-a7d1-41ee5f63e506",
   "metadata": {},
   "outputs": [],
   "source": [
    "def get_player_stats(region,matchid, summoner_id):\n",
    "    match = lol_watcher.match.by_id(region, matchid)\n",
    "    for n in range(10):\n",
    "        if match['info']['participants'][n]['summonerId'] == summoner_id:\n",
    "            return match['info']['participants'][n]\n",
    "def get_participants_match(region,matchid):\n",
    "    match = lol_watcher.match.by_id(region, matchid)\n",
    "    participants = [match['info']['participants'][n]['summonerId'] for n in range(10)]\n",
    "    return participants\n",
    "def get_record_stats(usuario,region,count=10,queue=None,showmatch=False):\n",
    "    matches = lol_watcher.match.matchlist_by_puuid(region, usuario[\"puuid\"],count=count,queue=queue)\n",
    "    match_stats = []\n",
    "    for match_id in matches:\n",
    "        stats = get_player_stats(region,match_id, usuario[\"id\"])\n",
    "        match_stats.append(stats)\n",
    "        if showmatch:\n",
    "            print('queueId: ',match['info']['queueId'],',')\n",
    "            print('gameId: ',match['info']['gameId'],',')\n",
    "            print('gameMode: ',match['info']['gameMode'],',')\n",
    "            print('gameName: ',match['info']['gameName'],',')\n",
    "            print('gameType: ',match['info']['gameType'],'\\n')\n",
    "    return match_stats"
   ]
  },
  {
   "cell_type": "markdown",
   "id": "0422f8f4-f29e-4e8a-bbc3-5355fcb2d9cf",
   "metadata": {},
   "source": [
    "Para una muestra de 5 rankeds, las estadisticas del jugador"
   ]
  },
  {
   "cell_type": "code",
   "execution_count": 9,
   "id": "1926144a-25f5-4c63-8e34-4aed7eb2047a",
   "metadata": {},
   "outputs": [],
   "source": [
    "match_stats = get_record_stats(usuario=usuario,region=region,count=count,queue=RANKED_SOLO_)\n"
   ]
  },
  {
   "cell_type": "markdown",
   "id": "d2557fe2-98cd-4b6f-82b1-335fb2d3e1e8",
   "metadata": {},
   "source": [
    "**Comentario**: Lamentablemente no se puede conseguir la información de la cantidad de LP de un jugador por las últimas partidas, la funcion lol_watcher.league.by_summoner solo conseigue la cantidad de LP actual del invocador y la función "
   ]
  },
  {
   "cell_type": "markdown",
   "id": "ced691c9-183e-4fcc-b74b-eab6b657ab0c",
   "metadata": {},
   "source": [
    "Como conseguir datos relevantes de match_stats, registremos el oro ganado por cada participante de la partida"
   ]
  },
  {
   "cell_type": "code",
   "execution_count": 15,
   "id": "8d9bf377-54b9-4936-9415-13455f5f6d8d",
   "metadata": {},
   "outputs": [],
   "source": [
    "matches0 = lol_watcher.match.matchlist_by_puuid(region, usuario[\"puuid\"],count=count)\n",
    "match0 = matches0[0]\n",
    "all_players = get_participants_match(region=region,matchid=match0)\n",
    "all_stats = list()\n",
    "for user_id in all_players:\n",
    "    all_stats.append(get_player_stats(region=region,matchid=match0, summoner_id=user_id))"
   ]
  },
  {
   "cell_type": "code",
   "execution_count": 16,
   "id": "05879638-ab2c-45ce-8ea8-a520f53469be",
   "metadata": {},
   "outputs": [
    {
     "data": {
      "text/plain": [
       "['PKnzNoRAfezRfxTwnOihrOHHlqZyAondbznXZphkpU-xmw',\n",
       " 'Q0sPt09ygE7uhHbE50d4Sy0sRZEOiVrGVMt1zJ5Ph9f18k4',\n",
       " 'RKW4Hnu5W9awGESzm6VCxY9EVGvRC1LEO_Z-EilGMtrCUQ5qD_PVA3BQLQ',\n",
       " 'JKp2NzcJOf4REbKKSSZMbV_JNgdeY2vpQnqgOQkjNXU7NTbmmfOSLroTHw',\n",
       " 'STi4zlig0Vfh228OuT9gnkEc2kgUz7_jD66ff7LyKrpBR29HVmX6uHTe7w',\n",
       " '_b_03S0pl-fdXKXjLCOTIr1me-vJGYdWeH0ahKqlhTU',\n",
       " 'HKD_oxYAr10-NEG3DPx_cVM1ZyJd9pHkoICjZUyOloYGWNM',\n",
       " 'BUhnO5X4Z9v3wckkfdcjw5rfIrM7UOIf1wZ0ILY0RD_1KQ',\n",
       " 'Z7-Pbs0AGUGqswXjU0VcTIFSSVlUz3Fk7UgHaJzxfE-H',\n",
       " 'ePLeBbctcDsMimulmT6NPYAZPY-JQBeOZ4ABF8nHEP5y150']"
      ]
     },
     "execution_count": 16,
     "metadata": {},
     "output_type": "execute_result"
    }
   ],
   "source": [
    "all_players"
   ]
  },
  {
   "cell_type": "code",
   "execution_count": 23,
   "id": "c70e2ce8-afba-4843-868f-4c65a3424d71",
   "metadata": {},
   "outputs": [],
   "source": [
    "match_player_stats = dict()\n",
    "match_player_stats['kills'] = []\n",
    "match_player_stats['deaths'] = []\n",
    "match_player_stats['assists'] = []\n",
    "match_player_stats['goldEarned'] = []\n",
    "match_player_stats['goldSpent'] = []\n",
    "match_player_stats['win'] = []\n",
    "for n  in range(10):\n",
    "    match_player_stats['kills'].append(all_stats[n]['kills'])\n",
    "    match_player_stats['deaths'].append(all_stats[n]['deaths'])\n",
    "    match_player_stats['assists'].append(all_stats[n]['assists'])\n",
    "    match_player_stats['goldEarned'].append(all_stats[n]['goldEarned'])\n",
    "    match_player_stats['goldSpent'].append(all_stats[n]['goldSpent'])\n",
    "    match_player_stats['win'].append(all_stats[n]['win'])"
   ]
  },
  {
   "cell_type": "code",
   "execution_count": 24,
   "id": "c2599d12-0196-4055-9870-ba13965300ec",
   "metadata": {},
   "outputs": [
    {
     "data": {
      "text/html": [
       "<div>\n",
       "<style scoped>\n",
       "    .dataframe tbody tr th:only-of-type {\n",
       "        vertical-align: middle;\n",
       "    }\n",
       "\n",
       "    .dataframe tbody tr th {\n",
       "        vertical-align: top;\n",
       "    }\n",
       "\n",
       "    .dataframe thead th {\n",
       "        text-align: right;\n",
       "    }\n",
       "</style>\n",
       "<table border=\"1\" class=\"dataframe\">\n",
       "  <thead>\n",
       "    <tr style=\"text-align: right;\">\n",
       "      <th></th>\n",
       "      <th>kills</th>\n",
       "      <th>deaths</th>\n",
       "      <th>assists</th>\n",
       "      <th>goldEarned</th>\n",
       "      <th>goldSpent</th>\n",
       "      <th>win</th>\n",
       "    </tr>\n",
       "  </thead>\n",
       "  <tbody>\n",
       "    <tr>\n",
       "      <th>0</th>\n",
       "      <td>7</td>\n",
       "      <td>12</td>\n",
       "      <td>3</td>\n",
       "      <td>15225</td>\n",
       "      <td>16920</td>\n",
       "      <td>False</td>\n",
       "    </tr>\n",
       "    <tr>\n",
       "      <th>1</th>\n",
       "      <td>3</td>\n",
       "      <td>6</td>\n",
       "      <td>9</td>\n",
       "      <td>13269</td>\n",
       "      <td>12800</td>\n",
       "      <td>False</td>\n",
       "    </tr>\n",
       "    <tr>\n",
       "      <th>2</th>\n",
       "      <td>4</td>\n",
       "      <td>8</td>\n",
       "      <td>3</td>\n",
       "      <td>15942</td>\n",
       "      <td>18229</td>\n",
       "      <td>False</td>\n",
       "    </tr>\n",
       "    <tr>\n",
       "      <th>3</th>\n",
       "      <td>7</td>\n",
       "      <td>16</td>\n",
       "      <td>10</td>\n",
       "      <td>13439</td>\n",
       "      <td>12650</td>\n",
       "      <td>False</td>\n",
       "    </tr>\n",
       "    <tr>\n",
       "      <th>4</th>\n",
       "      <td>5</td>\n",
       "      <td>18</td>\n",
       "      <td>7</td>\n",
       "      <td>10645</td>\n",
       "      <td>10275</td>\n",
       "      <td>False</td>\n",
       "    </tr>\n",
       "    <tr>\n",
       "      <th>5</th>\n",
       "      <td>15</td>\n",
       "      <td>7</td>\n",
       "      <td>3</td>\n",
       "      <td>16709</td>\n",
       "      <td>16350</td>\n",
       "      <td>True</td>\n",
       "    </tr>\n",
       "    <tr>\n",
       "      <th>6</th>\n",
       "      <td>11</td>\n",
       "      <td>6</td>\n",
       "      <td>11</td>\n",
       "      <td>13872</td>\n",
       "      <td>12150</td>\n",
       "      <td>True</td>\n",
       "    </tr>\n",
       "    <tr>\n",
       "      <th>7</th>\n",
       "      <td>11</td>\n",
       "      <td>3</td>\n",
       "      <td>8</td>\n",
       "      <td>12977</td>\n",
       "      <td>12210</td>\n",
       "      <td>True</td>\n",
       "    </tr>\n",
       "    <tr>\n",
       "      <th>8</th>\n",
       "      <td>11</td>\n",
       "      <td>5</td>\n",
       "      <td>15</td>\n",
       "      <td>13936</td>\n",
       "      <td>12375</td>\n",
       "      <td>True</td>\n",
       "    </tr>\n",
       "    <tr>\n",
       "      <th>9</th>\n",
       "      <td>12</td>\n",
       "      <td>5</td>\n",
       "      <td>13</td>\n",
       "      <td>14262</td>\n",
       "      <td>13125</td>\n",
       "      <td>True</td>\n",
       "    </tr>\n",
       "  </tbody>\n",
       "</table>\n",
       "</div>"
      ],
      "text/plain": [
       "   kills  deaths  assists  goldEarned  goldSpent    win\n",
       "0      7      12        3       15225      16920  False\n",
       "1      3       6        9       13269      12800  False\n",
       "2      4       8        3       15942      18229  False\n",
       "3      7      16       10       13439      12650  False\n",
       "4      5      18        7       10645      10275  False\n",
       "5     15       7        3       16709      16350   True\n",
       "6     11       6       11       13872      12150   True\n",
       "7     11       3        8       12977      12210   True\n",
       "8     11       5       15       13936      12375   True\n",
       "9     12       5       13       14262      13125   True"
      ]
     },
     "execution_count": 24,
     "metadata": {},
     "output_type": "execute_result"
    }
   ],
   "source": [
    "import pandas as pd\n",
    "pd.DataFrame(match_player_stats)"
   ]
  },
  {
   "cell_type": "code",
   "execution_count": null,
   "id": "47ec5e48-9502-496a-ba26-ec27784bdad5",
   "metadata": {},
   "outputs": [],
   "source": []
  }
 ],
 "metadata": {
  "kernelspec": {
   "display_name": "Python 3 (ipykernel)",
   "language": "python",
   "name": "python3"
  },
  "language_info": {
   "codemirror_mode": {
    "name": "ipython",
    "version": 3
   },
   "file_extension": ".py",
   "mimetype": "text/x-python",
   "name": "python",
   "nbconvert_exporter": "python",
   "pygments_lexer": "ipython3",
   "version": "3.8.16"
  }
 },
 "nbformat": 4,
 "nbformat_minor": 5
}
