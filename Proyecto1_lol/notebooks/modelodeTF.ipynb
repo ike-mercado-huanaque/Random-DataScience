{
 "cells": [
  {
   "cell_type": "code",
   "execution_count": 1,
   "id": "f4550702-7f8e-4f34-83e5-5132f5f4c1a5",
   "metadata": {},
   "outputs": [],
   "source": [
    "#PRUEBA\n",
    "class champ(object):\n",
    "    def update_stats_base(self,stats_dict,show=False):\n",
    "        for x,y in stats_dict.items():\n",
    "            if x in self.stats_base.keys():\n",
    "                self.stats_base[x] = y\n",
    "                if show:\n",
    "                    print(f\"{x} = {self.stats_base[x]}\")\n",
    "    def update_spell_dmg(self,dmg_dict,show=False):\n",
    "        for x,y in dmg_dict.items():\n",
    "            if x in self.spell_dmg.keys():\n",
    "                self.spell_dmg[x] = y\n",
    "                if show:\n",
    "                    print(f\"{x} = {self.spell_dmg[x]}\")\n",
    "            \n",
    "    def change_name(self,name):\n",
    "        self.name = name\n",
    "    def __init__(self):\n",
    "        self.stats_base = {\n",
    "            'ad': 52.0,\n",
    "            'ap': 80.0,\n",
    "            'mana': 100.0\n",
    "        }\n",
    "        self.spell_dmg = {\n",
    "            'Q_dmg': 80.0 + self.stats_base['ap']*0.45 + self.stats_base['ad']*0,\n",
    "            'W_dmg': 85.0 + self.stats_base['ap']*0.70 + self.stats_base['ad']*0,\n",
    "            'E_dmg': 0.0 +  self.stats_base['ap']*0 +  self.stats_base['ad']*0,\n",
    "            'R_dmg': 175.0 + self.stats_base['ap']*0.65 + self.stats_base['ad']*0\n",
    "            #'R_dmg': 350.0 + self.stats_base['ap']*1.30 +  self.stats_base['ad']*0\n",
    "        }\n",
    "        # coldown and cast in seconds\n",
    "        self.spell_timer = {\n",
    "            'Q_cd': 6.0,\n",
    "            'W_cd': 8.0,\n",
    "            'E_cd': 20.0,\n",
    "            'R_cd': 120.0,\n",
    "            'Q_cast': 0.25,\n",
    "            'W_cast': 1.46,\n",
    "            'E_cast': 0.25,\n",
    "            'R_cast': 0.25            \n",
    "        }\n",
    "        \n",
    "        self.spell_cost = {\n",
    "            'Q_cost': 30.0,\n",
    "            'W_cost': 60.0,\n",
    "            'E_cost': 70.0,\n",
    "            'R_cost': 100.0\n",
    "        }\n",
    "        self.name = None\n",
    "        \n",
    "    \n",
    "        \n",
    "        \n",
    "        "
   ]
  },
  {
   "cell_type": "code",
   "execution_count": 2,
   "id": "db700b9b-987f-426b-bba9-b08ef6f3e2d7",
   "metadata": {},
   "outputs": [],
   "source": [
    "from scipy.optimize import linprog\n",
    "import numpy as np"
   ]
  },
  {
   "cell_type": "code",
   "execution_count": 3,
   "id": "d5347c0e-cd01-4e79-bf36-a63cc98275f6",
   "metadata": {},
   "outputs": [],
   "source": [
    "campeon = champ()\n",
    "campeon.change_name('veigar')"
   ]
  },
  {
   "cell_type": "code",
   "execution_count": 4,
   "id": "880654d7-ee52-4e8f-94c0-77d54c3d46b9",
   "metadata": {},
   "outputs": [
    {
     "name": "stdout",
     "output_type": "stream",
     "text": [
      "mana 100.0\n",
      "ap 80.0\n",
      "mana = 1000.0\n",
      "ap = 120.0\n",
      "Q_dmg 227.0\n",
      "R_dmg 227.0\n",
      "Q_dmg = 226.0\n",
      "R_dmg = 506.0\n"
     ]
    }
   ],
   "source": [
    "print('mana',campeon.stats_base['mana'])\n",
    "print('ap',campeon.stats_base['ap'])\n",
    "campeon.update_stats_base({\n",
    "    'mana':1000.0,\n",
    "    'ap':120.0\n",
    "},show=True)\n",
    "print('Q_dmg',campeon.spell_dmg['R_dmg'])\n",
    "print('R_dmg',campeon.spell_dmg['R_dmg'])\n",
    "campeon.update_spell_dmg({\n",
    "    'Q_dmg':160.0 + campeon.stats_base['ap']*0.55,\n",
    "    'R_dmg':350.0 + campeon.stats_base['ap']*1.30\n",
    "},show=True)"
   ]
  },
  {
   "cell_type": "code",
   "execution_count": 5,
   "id": "5e77679e-6fd1-49ae-b935-334b3670da3b",
   "metadata": {},
   "outputs": [
    {
     "data": {
      "text/plain": [
       "array([226., 141.,   0., 506.])"
      ]
     },
     "execution_count": 5,
     "metadata": {},
     "output_type": "execute_result"
    }
   ],
   "source": [
    "T = 0.3\n",
    "M = campeon.stats_base['mana']\n",
    "\n",
    "costos = np.array([x for x in campeon.spell_cost.values()])\n",
    "c = np.array([x for x in campeon.spell_dmg.values()])\n",
    "c"
   ]
  },
  {
   "cell_type": "code",
   "execution_count": 6,
   "id": "ecdbd1de-db8b-4d8e-9ff2-2322d55f93bc",
   "metadata": {},
   "outputs": [
    {
     "data": {
      "text/plain": [
       "[(0, 33.333333333333336),\n",
       " (0, 16.666666666666668),\n",
       " (0, 14.285714285714286),\n",
       " (0, 10.0)]"
      ]
     },
     "execution_count": 6,
     "metadata": {},
     "output_type": "execute_result"
    }
   ],
   "source": [
    "bounds = [(0,x) for x in M/costos]\n",
    "bounds"
   ]
  },
  {
   "cell_type": "code",
   "execution_count": 7,
   "id": "9171e692-27dc-4d40-8a2c-c12305ed2a04",
   "metadata": {},
   "outputs": [
    {
     "data": {
      "text/plain": [
       "array([[ 30.  ,  60.  ,  70.  , 100.  ],\n",
       "       [  6.25,   9.46,  20.25, 120.25],\n",
       "       [  6.25,   0.  ,   0.  ,   0.  ],\n",
       "       [  0.  ,   9.46,   0.  ,   0.  ],\n",
       "       [  0.  ,   0.  ,  20.25,   0.  ],\n",
       "       [  0.  ,   0.  ,   0.  , 120.25]])"
      ]
     },
     "execution_count": 7,
     "metadata": {},
     "output_type": "execute_result"
    }
   ],
   "source": [
    "A = np.diag(np.array([y for x,y in campeon.spell_timer.items() if 'cd' in x]) + \n",
    "    np.array([y for x,y in campeon.spell_timer.items() if 'cast' in x]) )\n",
    "A = np.concatenate([np.vstack((costos,np.diag(A))),A])\n",
    "#A = np.vstack((c,np.diag(A)))\n",
    "A"
   ]
  },
  {
   "cell_type": "code",
   "execution_count": 8,
   "id": "0102bd12-fe85-4188-b247-65e75c9629e0",
   "metadata": {},
   "outputs": [
    {
     "data": {
      "text/plain": [
       "array([1000. ,  155.5,    6.3,    8.3,   20.3,  120.3])"
      ]
     },
     "execution_count": 8,
     "metadata": {},
     "output_type": "execute_result"
    }
   ],
   "source": [
    "b = [T + y for x,y in campeon.spell_timer.items() if 'cd' in x]\n",
    "b = np.array([M,T+sum(b)] + b)\n",
    "#b = np.array([M,T+sum(b)])\n",
    "b "
   ]
  },
  {
   "cell_type": "code",
   "execution_count": 9,
   "id": "ac7b88c1-4cac-47e3-bc42-068a0ea3e33e",
   "metadata": {},
   "outputs": [
    {
     "data": {
      "text/plain": [
       "           con: array([], dtype=float64)\n",
       " crossover_nit: -1\n",
       "         eqlin:  marginals: array([], dtype=float64)\n",
       "  residual: array([], dtype=float64)\n",
       "           fun: -732.0\n",
       "       ineqlin:  marginals: array([0., 0., 0., 0., 0.])\n",
       "  residual: array([8.70e+02, 5.00e-02, 8.30e+00, 2.03e+01, 5.00e-02])\n",
       "         lower:  marginals: array([0., 0., 0., 0.])\n",
       "  residual: array([1., 0., 0., 1.])\n",
       "       message: 'Optimization terminated successfully. (HiGHS Status 7: Optimal)'\n",
       "           nit: -1\n",
       "         slack: array([8.70e+02, 5.00e-02, 8.30e+00, 2.03e+01, 5.00e-02])\n",
       "        status: 0\n",
       "       success: True\n",
       "         upper:  marginals: array([0., 0., 0., 0.])\n",
       "  residual: array([32.33333333, 16.66666667, 14.28571429,  9.        ])\n",
       "             x: array([1., 0., 0., 1.])"
      ]
     },
     "execution_count": 9,
     "metadata": {},
     "output_type": "execute_result"
    }
   ],
   "source": [
    "A = A[[i for i in range(A.shape[0]) if i != 1],:]\n",
    "b = b[[i for i in range(len(b)) if i != 1]]\n",
    "solucion = linprog(-c, A_ub=A, b_ub=b, bounds=bounds,method = 'highs',integrality = [1,1,1,1])\n",
    "#solucion = linprog(-c, A_ub=A, b_ub=b, bounds=bounds,method = 'highs')\n",
    "solucion"
   ]
  },
  {
   "cell_type": "code",
   "execution_count": 10,
   "id": "2ba716ae-6709-4caf-9615-55c1316d7b32",
   "metadata": {},
   "outputs": [
    {
     "data": {
      "text/plain": [
       "array([1., 0., 0., 1.])"
      ]
     },
     "execution_count": 10,
     "metadata": {},
     "output_type": "execute_result"
    }
   ],
   "source": [
    "solucion.x"
   ]
  },
  {
   "cell_type": "code",
   "execution_count": 11,
   "id": "944edffd-be0b-4c19-b418-0efecd20a744",
   "metadata": {},
   "outputs": [
    {
     "data": {
      "text/plain": [
       "732.0"
      ]
     },
     "execution_count": 11,
     "metadata": {},
     "output_type": "execute_result"
    }
   ],
   "source": [
    "-solucion.fun"
   ]
  },
  {
   "cell_type": "code",
   "execution_count": 12,
   "id": "236ca910-94ea-4fb1-b6e4-4148156fa24a",
   "metadata": {},
   "outputs": [
    {
     "data": {
      "text/plain": [
       "{'Q_dmg': 226.0, 'W_dmg': 141.0, 'E_dmg': 0.0, 'R_dmg': 506.0}"
      ]
     },
     "execution_count": 12,
     "metadata": {},
     "output_type": "execute_result"
    }
   ],
   "source": [
    "campeon.spell_dmg"
   ]
  },
  {
   "cell_type": "code",
   "execution_count": 13,
   "id": "fdce6aa1-1136-4b18-b215-a33d94ce0ab0",
   "metadata": {},
   "outputs": [
    {
     "name": "stdout",
     "output_type": "stream",
     "text": [
      "nombre = veigar\n",
      "stats base y daño spells\n",
      "ad = 52.0\n",
      "ap = 120.0\n",
      "mana = 1000.0\n",
      "Q_dmg = 226.0\n",
      "W_dmg = 141.0\n",
      "E_dmg = 0.0\n",
      "R_dmg = 506.0\n",
      "mana gastado = 130.0 de un total de 1000.0 en un tiempo de 0.3 segundos\n",
      "maximo daño posible 732.0 en un periodo de 0.3 segundos\n",
      "Cantidad de Q en 0.3 segundos: 1\n",
      "Cantidad de W en 0.3 segundos: 0\n",
      "Cantidad de E en 0.3 segundos: 0\n",
      "Cantidad de R en 0.3 segundos: 1\n"
     ]
    },
    {
     "data": {
      "text/plain": [
       "[None, None, None, None]"
      ]
     },
     "execution_count": 13,
     "metadata": {},
     "output_type": "execute_result"
    }
   ],
   "source": [
    "print(f\"nombre = {campeon.name}\")\n",
    "print(f\"stats base y daño spells\")\n",
    "[print(f\"{x} = {y}\") for x,y in campeon.stats_base.items()]\n",
    "[print(f\"{x} = {y}\") for x,y in campeon.spell_dmg.items()]\n",
    "print(f\"mana gastado = {np.dot(solucion.x,costos)} de un total de {campeon.stats_base['mana']} en un tiempo de {T} segundos\")\n",
    "print(f\"maximo daño posible {-solucion.fun} en un periodo de {T} segundos\")\n",
    "[print(f\"Cantidad de {['Q','W','E','R'][i]} en {T} segundos: {int(solucion.x[i])}\") for i in range(len(solucion.x))]"
   ]
  },
  {
   "cell_type": "code",
   "execution_count": 14,
   "id": "42b3f777-020f-4dad-841b-94a1f09c9b5f",
   "metadata": {},
   "outputs": [
    {
     "data": {
      "text/plain": [
       "130.0"
      ]
     },
     "execution_count": 14,
     "metadata": {},
     "output_type": "execute_result"
    }
   ],
   "source": [
    "np.dot(solucion.x,costos)"
   ]
  },
  {
   "cell_type": "code",
   "execution_count": 15,
   "id": "e5b62a5f-88ed-46d8-83d7-de3a9e823f36",
   "metadata": {},
   "outputs": [
    {
     "data": {
      "text/plain": [
       "array([ 30.,  60.,  70., 100.])"
      ]
     },
     "execution_count": 15,
     "metadata": {},
     "output_type": "execute_result"
    }
   ],
   "source": [
    "costos"
   ]
  },
  {
   "cell_type": "code",
   "execution_count": 16,
   "id": "64cd73f3-30a1-48ea-a186-7b5a20b7b6b9",
   "metadata": {},
   "outputs": [
    {
     "data": {
      "text/plain": [
       "array([[ 30.  ,  60.  ,  70.  , 100.  ],\n",
       "       [  6.25,   0.  ,   0.  ,   0.  ],\n",
       "       [  0.  ,   9.46,   0.  ,   0.  ],\n",
       "       [  0.  ,   0.  ,  20.25,   0.  ],\n",
       "       [  0.  ,   0.  ,   0.  , 120.25]])"
      ]
     },
     "execution_count": 16,
     "metadata": {},
     "output_type": "execute_result"
    }
   ],
   "source": [
    "A"
   ]
  },
  {
   "cell_type": "code",
   "execution_count": 17,
   "id": "c4676aa7-63fc-4949-b326-c6c83130594a",
   "metadata": {},
   "outputs": [
    {
     "data": {
      "text/plain": [
       "array([1000. ,    6.3,    8.3,   20.3,  120.3])"
      ]
     },
     "execution_count": 17,
     "metadata": {},
     "output_type": "execute_result"
    }
   ],
   "source": [
    "b"
   ]
  },
  {
   "cell_type": "code",
   "execution_count": 18,
   "id": "87b6238f-b687-4179-b8c8-132409efe03c",
   "metadata": {},
   "outputs": [
    {
     "data": {
      "text/plain": [
       "array([ 30.,  60.,  70., 100.])"
      ]
     },
     "execution_count": 18,
     "metadata": {},
     "output_type": "execute_result"
    }
   ],
   "source": [
    "costos"
   ]
  },
  {
   "cell_type": "code",
   "execution_count": null,
   "id": "b51eeaee-fc7e-4beb-80f8-8a1f621d0330",
   "metadata": {},
   "outputs": [],
   "source": []
  },
  {
   "cell_type": "code",
   "execution_count": null,
   "id": "383a3497-18dd-49e3-8560-3571c62e9ad7",
   "metadata": {},
   "outputs": [],
   "source": []
  }
 ],
 "metadata": {
  "kernelspec": {
   "display_name": "Python 3 (ipykernel)",
   "language": "python",
   "name": "python3"
  },
  "language_info": {
   "codemirror_mode": {
    "name": "ipython",
    "version": 3
   },
   "file_extension": ".py",
   "mimetype": "text/x-python",
   "name": "python",
   "nbconvert_exporter": "python",
   "pygments_lexer": "ipython3",
   "version": "3.8.16"
  }
 },
 "nbformat": 4,
 "nbformat_minor": 5
}
