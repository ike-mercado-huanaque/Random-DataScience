{
 "cells": [
  {
   "cell_type": "code",
   "execution_count": 1,
   "id": "4e5e44e8-fefb-458a-81e1-04506a79146c",
   "metadata": {},
   "outputs": [],
   "source": [
    "import pandas as pd"
   ]
  },
  {
   "cell_type": "code",
   "execution_count": 5,
   "id": "02e9115c-e4d5-4d56-80ac-ea1002ebc8fe",
   "metadata": {},
   "outputs": [],
   "source": [
    "df = pd.DataFrame({'a':[1,2,3],'b':[2,3,4]})"
   ]
  },
  {
   "cell_type": "code",
   "execution_count": 13,
   "id": "5446a336-1829-4aeb-bf66-20973930ee38",
   "metadata": {},
   "outputs": [
    {
     "data": {
      "text/plain": [
       "'C:\\\\Users\\\\ikeem\\\\OneDrive\\\\Escritorio\\\\Random-DataScience\\\\Proyecto1_lol'"
      ]
     },
     "execution_count": 13,
     "metadata": {},
     "output_type": "execute_result"
    }
   ],
   "source": [
    "os.getcwd()"
   ]
  },
  {
   "cell_type": "code",
   "execution_count": 14,
   "id": "9537b09f-546c-4eda-af8d-15535503f873",
   "metadata": {},
   "outputs": [],
   "source": [
    "import os\n",
    "path = \"C:\\\\Users\\\\ikeem\\\\OneDrive\\\\Escritorio\\\\Random-DataScience\\\\Proyecto1_lol\\\\Data\""
   ]
  },
  {
   "cell_type": "code",
   "execution_count": 15,
   "id": "10f27e09-811f-45f7-8c64-ec828d0c53b8",
   "metadata": {},
   "outputs": [],
   "source": [
    "df.to_csv(os.path.join(path,'aaaaa'), index=False)"
   ]
  },
  {
   "cell_type": "code",
   "execution_count": null,
   "id": "9a493c6c-6a1e-4a43-ab00-30ae5705884b",
   "metadata": {},
   "outputs": [],
   "source": []
  }
 ],
 "metadata": {
  "kernelspec": {
   "display_name": "Python 3 (ipykernel)",
   "language": "python",
   "name": "python3"
  },
  "language_info": {
   "codemirror_mode": {
    "name": "ipython",
    "version": 3
   },
   "file_extension": ".py",
   "mimetype": "text/x-python",
   "name": "python",
   "nbconvert_exporter": "python",
   "pygments_lexer": "ipython3",
   "version": "3.8.16"
  }
 },
 "nbformat": 4,
 "nbformat_minor": 5
}
